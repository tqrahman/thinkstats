{
  "nbformat": 4,
  "nbformat_minor": 0,
  "metadata": {
    "colab": {
      "name": "Ch2-Distributions.ipynb",
      "provenance": []
    },
    "kernelspec": {
      "name": "python3",
      "display_name": "Python 3"
    },
    "language_info": {
      "name": "python"
    }
  },
  "cells": [
    {
      "cell_type": "code",
      "metadata": {
        "id": "M5AKjP82rCvF"
      },
      "source": [
        "# Imports\n",
        "\n",
        "import numpy as np\n",
        "import pandas as pd\n",
        "import matplotlib.pyplot as plt\n",
        "import seaborn as sns"
      ],
      "execution_count": 18,
      "outputs": []
    },
    {
      "cell_type": "code",
      "metadata": {
        "id": "qY_9gnPTy8PK"
      },
      "source": [
        "# Creating a class that converts a list of values into a frequency object\n",
        "\n",
        "class Hist:\n",
        "  \n",
        "  def __init__(self, list_of_values):\n",
        "    self.list_of_values = list_of_values\n",
        "    self.hist = {}\n",
        "    for i in self.list_of_values:\n",
        "      if i in self.hist:\n",
        "        self.hist[i] += 1\n",
        "      else:\n",
        "        self.hist[i] = 1\n",
        "\n",
        "  def get_most_frequent(self):\n",
        "    max_value = max(self.hist, key=obj.get)\n",
        "    return self.hist[max_value], max_value\n",
        "\n",
        "  def print_hist(self, sort=None):\n",
        "    if sort == None:\n",
        "      d = self.hist\n",
        "    elif sort == 'ascending':\n",
        "      d = dict(sorted(self.hist.items(), key = lambda x: x[1], reverse = False))\n",
        "    elif sort == 'descending':\n",
        "      d = dict(sorted(self.hist.items(), key = lambda x: x[1], reverse = True))\n",
        "    else:\n",
        "      print(\"sort not recognized!\")\n",
        "    \n",
        "    for val, freq in d.items():\n",
        "      print(val, freq)\n",
        "  \n",
        "  def plot_hist(self, x_title=None, y_title=None):\n",
        "    plt.hist(self.list_of_values)\n",
        "    plt.xlabel(x_title)\n",
        "    plt.ylabel(y_title);"
      ],
      "execution_count": 19,
      "outputs": []
    },
    {
      "cell_type": "code",
      "metadata": {
        "id": "80gJ_Vwr0UJo"
      },
      "source": [
        "# Creating a Hist object\n",
        "\n",
        "values = [1, 2, 2, 3, 5]\n",
        "hist = Hist(values)\n",
        "hist.hist"
      ],
      "execution_count": 20,
      "outputs": []
    },
    {
      "cell_type": "code",
      "metadata": {
        "colab": {
          "base_uri": "https://localhost:8080/"
        },
        "id": "CBuBN8PI0b7X",
        "outputId": "e97cb149-d1d0-4ec4-a10d-22f4637690f1"
      },
      "source": [
        "# Printing the Hist object in a tabular form\n",
        "\n",
        "hist.print_hist()"
      ],
      "execution_count": 22,
      "outputs": [
        {
          "output_type": "stream",
          "text": [
            "1 1\n",
            "2 2\n",
            "3 1\n",
            "5 1\n"
          ],
          "name": "stdout"
        }
      ]
    },
    {
      "cell_type": "code",
      "metadata": {
        "colab": {
          "base_uri": "https://localhost:8080/"
        },
        "id": "i3hhwpue8vNy",
        "outputId": "3f6e9cfe-b9c7-4436-cad1-0b9e6e74d95b"
      },
      "source": [
        "# Sorting the hist by ascending\n",
        "\n",
        "hist.print_hist(sort='ascending')"
      ],
      "execution_count": 23,
      "outputs": [
        {
          "output_type": "stream",
          "text": [
            "1 1\n",
            "3 1\n",
            "5 1\n",
            "2 2\n"
          ],
          "name": "stdout"
        }
      ]
    },
    {
      "cell_type": "code",
      "metadata": {
        "colab": {
          "base_uri": "https://localhost:8080/",
          "height": 205
        },
        "id": "xWnKh_r7sr6r",
        "outputId": "941f23be-ef3b-4260-9681-8e2017c4c77b"
      },
      "source": [
        "# Reading in the data\n",
        "\n",
        "pregnancies = pd.read_fwf(\n",
        "  'https://raw.githubusercontent.com/tqrahman/thinkstats/main/data/2002FemPreg.dat', \n",
        "  names=['caseid', 'nbrnaliv', 'babysex', 'birthwgt_lb', 'birthwgt_oz', 'prglength', \n",
        "         'outcome', 'birthord', 'agepreg', 'finalwgt'],\n",
        "  colspecs=[(0, 12), (21, 22), (55, 56), (57, 58), (57, 59),(274, 276), (276, 277), \n",
        "            (278, 279), (283, 285), (422, 439)],\n",
        ")\n",
        "\n",
        "pregnancies.head()"
      ],
      "execution_count": 24,
      "outputs": [
        {
          "output_type": "execute_result",
          "data": {
            "text/html": [
              "<div>\n",
              "<style scoped>\n",
              "    .dataframe tbody tr th:only-of-type {\n",
              "        vertical-align: middle;\n",
              "    }\n",
              "\n",
              "    .dataframe tbody tr th {\n",
              "        vertical-align: top;\n",
              "    }\n",
              "\n",
              "    .dataframe thead th {\n",
              "        text-align: right;\n",
              "    }\n",
              "</style>\n",
              "<table border=\"1\" class=\"dataframe\">\n",
              "  <thead>\n",
              "    <tr style=\"text-align: right;\">\n",
              "      <th></th>\n",
              "      <th>caseid</th>\n",
              "      <th>nbrnaliv</th>\n",
              "      <th>babysex</th>\n",
              "      <th>birthwgt_lb</th>\n",
              "      <th>birthwgt_oz</th>\n",
              "      <th>prglength</th>\n",
              "      <th>outcome</th>\n",
              "      <th>birthord</th>\n",
              "      <th>agepreg</th>\n",
              "      <th>finalwgt</th>\n",
              "    </tr>\n",
              "  </thead>\n",
              "  <tbody>\n",
              "    <tr>\n",
              "      <th>0</th>\n",
              "      <td>1</td>\n",
              "      <td>1.0</td>\n",
              "      <td>1.0</td>\n",
              "      <td>8.0</td>\n",
              "      <td>81.0</td>\n",
              "      <td>39</td>\n",
              "      <td>1</td>\n",
              "      <td>1.0</td>\n",
              "      <td>33.0</td>\n",
              "      <td>6448.271112</td>\n",
              "    </tr>\n",
              "    <tr>\n",
              "      <th>1</th>\n",
              "      <td>1</td>\n",
              "      <td>1.0</td>\n",
              "      <td>2.0</td>\n",
              "      <td>7.0</td>\n",
              "      <td>71.0</td>\n",
              "      <td>39</td>\n",
              "      <td>1</td>\n",
              "      <td>2.0</td>\n",
              "      <td>39.0</td>\n",
              "      <td>6448.271112</td>\n",
              "    </tr>\n",
              "    <tr>\n",
              "      <th>2</th>\n",
              "      <td>2</td>\n",
              "      <td>3.0</td>\n",
              "      <td>1.0</td>\n",
              "      <td>9.0</td>\n",
              "      <td>9.0</td>\n",
              "      <td>39</td>\n",
              "      <td>1</td>\n",
              "      <td>1.0</td>\n",
              "      <td>14.0</td>\n",
              "      <td>12999.542264</td>\n",
              "    </tr>\n",
              "    <tr>\n",
              "      <th>3</th>\n",
              "      <td>2</td>\n",
              "      <td>1.0</td>\n",
              "      <td>2.0</td>\n",
              "      <td>7.0</td>\n",
              "      <td>7.0</td>\n",
              "      <td>39</td>\n",
              "      <td>1</td>\n",
              "      <td>2.0</td>\n",
              "      <td>17.0</td>\n",
              "      <td>12999.542264</td>\n",
              "    </tr>\n",
              "    <tr>\n",
              "      <th>4</th>\n",
              "      <td>2</td>\n",
              "      <td>1.0</td>\n",
              "      <td>2.0</td>\n",
              "      <td>6.0</td>\n",
              "      <td>6.0</td>\n",
              "      <td>39</td>\n",
              "      <td>1</td>\n",
              "      <td>3.0</td>\n",
              "      <td>18.0</td>\n",
              "      <td>12999.542264</td>\n",
              "    </tr>\n",
              "  </tbody>\n",
              "</table>\n",
              "</div>"
            ],
            "text/plain": [
              "   caseid  nbrnaliv  babysex  ...  birthord  agepreg      finalwgt\n",
              "0       1       1.0      1.0  ...       1.0     33.0   6448.271112\n",
              "1       1       1.0      2.0  ...       2.0     39.0   6448.271112\n",
              "2       2       3.0      1.0  ...       1.0     14.0  12999.542264\n",
              "3       2       1.0      2.0  ...       2.0     17.0  12999.542264\n",
              "4       2       1.0      2.0  ...       3.0     18.0  12999.542264\n",
              "\n",
              "[5 rows x 10 columns]"
            ]
          },
          "metadata": {
            "tags": []
          },
          "execution_count": 24
        }
      ]
    },
    {
      "cell_type": "code",
      "metadata": {
        "id": "mBtsJogbi3Kb"
      },
      "source": [
        "# Getting live births\n",
        "\n",
        "live = pregnancies[pregnancies['outcome']==1]"
      ],
      "execution_count": 25,
      "outputs": []
    },
    {
      "cell_type": "code",
      "metadata": {
        "colab": {
          "base_uri": "https://localhost:8080/",
          "height": 279
        },
        "id": "M0Xg05EANHhA",
        "outputId": "f3ed0b90-0898-4b74-89f0-ee5b279223c3"
      },
      "source": [
        "# Getting frequencies of live birth rates\n",
        "\n",
        "birthweight_hist = Hist(live['birthwgt_lb'])\n",
        "birthweight_hist.plot_hist('Birth Weight (lbs)', 'Frequency')"
      ],
      "execution_count": 26,
      "outputs": [
        {
          "output_type": "display_data",
          "data": {
            "image/png": "[encoded data removed]",
            "text/plain": [
              "<Figure size 432x288 with 1 Axes>"
            ]
          },
          "metadata": {
            "tags": [],
            "needs_background": "light"
          }
        }
      ]
    },
    {
      "cell_type": "code",
      "metadata": {
        "id": "tqHHSYML-ZI6"
      },
      "source": [
        "# Splitting data by birth order\n",
        "\n",
        "firsts = live[live['birthord'] == 1]\n",
        "others = live[live['birthord'] != 1]"
      ],
      "execution_count": 27,
      "outputs": []
    },
    {
      "cell_type": "code",
      "metadata": {
        "colab": {
          "base_uri": "https://localhost:8080/",
          "height": 279
        },
        "id": "bpU7gOAbjduX",
        "outputId": "2f2ec3f2-7cf0-4ae7-f636-774ac82f7d0d"
      },
      "source": [
        "# Plotting hist\n",
        "\n",
        "plt.hist(firsts['prglength'], bins=50, alpha=0.6, label=\"first\")\n",
        "plt.hist(others['prglength'], bins=50, alpha=0.6, label=\"other\")\n",
        "plt.legend(loc='upper right')\n",
        "plt.xlabel('Weeks')\n",
        "plt.ylabel('Frequency')\n",
        "plt.show()"
      ],
      "execution_count": 34,
      "outputs": [
        {
          "output_type": "display_data",
          "data": {
            "image/png": "[encoded data removed]",
            "text/plain": [
              "<Figure size 432x288 with 1 Axes>"
            ]
          },
          "metadata": {
            "tags": [],
            "needs_background": "light"
          }
        }
      ]
    },
    {
      "cell_type": "code",
      "metadata": {
        "id": "sDvdAClHkHnG"
      },
      "source": [
        ""
      ],
      "execution_count": null,
      "outputs": []
    }
  ]
}